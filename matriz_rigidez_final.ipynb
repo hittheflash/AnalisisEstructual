{
 "cells": [
  {
   "cell_type": "code",
   "execution_count": 1,
   "metadata": {},
   "outputs": [],
   "source": [
    "from feon.sa import *\n",
    "import utills as uti\n",
    "from feon.tools import pair_wise\n",
    "import numpy as np \n",
    "import pandas as pd\n",
    "import feon as  fn\n",
    "from matplotlib import pyplot as plt"
   ]
  },
  {
   "cell_type": "code",
   "execution_count": 41,
   "metadata": {},
   "outputs": [
    {
     "name": "stdout",
     "output_type": "stream",
     "text": [
      "Ingrese el modulo de elasticidad: 0\n",
      "Enter a correct value: 1\n",
      "Ingrese el modulo de area: 1\n",
      "Ingrese el modulo de inercia: 1\n",
      "Ingrese el numero de columnas: 3\n",
      "Ingrese el numero de filas: 3\n",
      "Ingrese la cantidad de nodos a los que se le apilcara una carga: 1\n",
      "Nodo 1 de aplicacion de carga: 2\n",
      "Ingrese la fuerza en x para el nodo 2: -1000\n",
      "Ingrese la fuerza en y para el nodo 2: 0\n"
     ]
    }
   ],
   "source": [
    "e = input(\"Ingrese el modulo de elasticidad: \").strip()\n",
    "e = uti.verify_value_0(e)\n",
    "a = input(\"Ingrese el modulo de area: \").strip()\n",
    "a = uti.verify_value_0(a)\n",
    "ii = input(\"Ingrese el modulo de inercia: \").strip()\n",
    "ii = uti.verify_value_0(ii)\n",
    "\n",
    "ncol = input(\"Ingrese el numero de columnas: \").strip()\n",
    "ncol = uti.verify_value_1(ncol)\n",
    "nniv = input(\"Ingrese el numero de filas: \").strip()\n",
    "nniv = uti.verify_value_1(nniv)\n",
    "\n",
    "sc = tuple([i for i in range(ncol)])\n",
    "Nc = []\n",
    "dic_nodo = {}\n",
    "n_nodos = input(\"Ingrese la cantidad de nodos a los que se le apilcara una carga: \").strip()\n",
    "n_nodos = uti.verify_value_2(n_nodos)\n",
    "for i in range(int(n_nodos)):\n",
    "    ingresa_nodo = input(\"Nodo {} de aplicacion de carga: \".format(i+1)).strip()\n",
    "    ingresa_nodo = uti.verify_value_2(ingresa_nodo)\n",
    "    Nc = list(set(Nc))\n",
    "    fx = input(\"Ingrese la fuerza en x para el nodo {}: \".format(ingresa_nodo))\n",
    "    fx = uti.verify_value_01(fx)\n",
    "    fy = input(\"Ingrese la fuerza en y para el nodo {}: \".format(ingresa_nodo))\n",
    "    fy = uti.verify_value_01(fy)\n",
    "    dic_nodo[ingresa_nodo] = [fx, fy]"
   ]
  },
  {
   "cell_type": "code",
   "execution_count": 42,
   "metadata": {},
   "outputs": [
    {
     "name": "stdout",
     "output_type": "stream",
     "text": [
      "Lista de nodos:\n",
      "1. Node:(0.0, 0.0)\n",
      "2. Node:(1.0, 0.0)\n",
      "3. Node:(2.0, 0.0)\n",
      "4. Node:(0.0, 1.0)\n",
      "5. Node:(1.0, 1.0)\n",
      "6. Node:(2.0, 1.0)\n",
      "7. Node:(0.0, 2.0)\n",
      "8. Node:(1.0, 2.0)\n",
      "9. Node:(2.0, 2.0)\n"
     ]
    }
   ],
   "source": [
    "nodos_ = uti.lista_nodos(nniv, ncol)\n",
    "print(\"Lista de nodos:\")\n",
    "for i in range(len(nodos_)):\n",
    "    print(\"{}. {}\".format(i+1, nodos_[i]))"
   ]
  },
  {
   "cell_type": "code",
   "execution_count": 43,
   "metadata": {},
   "outputs": [
    {
     "name": "stdout",
     "output_type": "stream",
     "text": [
      "Elementos en x: 2 en 2 niveles total: 4\n",
      "Elementos en y: 3 en 2 niveles total: 6\n",
      "\n",
      "Elementos Totales: 10\n"
     ]
    }
   ],
   "source": [
    "elementos_ = uti.total_elementos(nniv, ncol)\n",
    "print(\"Elementos Totales:\", elementos_)"
   ]
  },
  {
   "cell_type": "code",
   "execution_count": 45,
   "metadata": {},
   "outputs": [
    {
     "name": "stdout",
     "output_type": "stream",
     "text": [
      "Estructura (3x3):\n",
      "╔═══╦═══╗\n",
      "╢═══╢═══╢\n",
      "╚═══╩═══╝\n",
      "Ingrese la altura h1: 1\n",
      "Ingrese la altura h2: 1\n"
     ]
    }
   ],
   "source": [
    "estructura = uti.drawing_estructure(nniv, ncol)\n",
    "_, n = uti.m_r(E=e, A=a, I=ii, Ncol=ncol, Nniv=nniv, SC=sc, dic=dic_nodo)\n",
    "alturas = []\n",
    "for j in range(nniv-1):\n",
    "    h = input(\"Ingrese la altura h{}: \".format(j+1)).strip()\n",
    "    h = uti.verify_value_0(e)\n",
    "    alturas.append(int(h))"
   ]
  },
  {
   "cell_type": "code",
   "execution_count": 51,
   "metadata": {},
   "outputs": [
    {
     "name": "stdout",
     "output_type": "stream",
     "text": [
      "(75, 75)\n",
      "\n",
      "[9, 18, 10, 11, 12, 13, 14, 15, 16, 17, 19, 20, 21, 22, 23, 24, 25, 26]\n",
      "\n",
      "[-5.51, 15.55, -7.96]\n",
      "[15.55, 43.32, -4.32]\n",
      "[-7.96, -4.32, 10.6]\n"
     ]
    }
   ],
   "source": [
    "conde = uti.mmr(_, nniv, ncol)\n",
    "for i in range(len(conde)):\n",
    "    print([round(j, 2) for j in list(conde[i])])"
   ]
  },
  {
   "cell_type": "code",
   "execution_count": 31,
   "metadata": {},
   "outputs": [],
   "source": [
    "#print(n[0].disp)"
   ]
  },
  {
   "cell_type": "code",
   "execution_count": null,
   "metadata": {},
   "outputs": [],
   "source": [
    "# fx = {completar}\n",
    "# mm =  {completar MM matriz de masa}\n",
    "drifts = uti.ujns_drifts(FX=fx, KOND=conde, MM=mm, lista_h=alturas)\n",
    "for i in range(len(drifts)):\n",
    "    print(\"{}. Drift: {}\".format(i+1, drifts[0]))"
   ]
  },
  {
   "cell_type": "code",
   "execution_count": 49,
   "metadata": {},
   "outputs": [
    {
     "name": "stdout",
     "output_type": "stream",
     "text": [
      "Enter the parameters:\n",
      "\n",
      "I: 1\n",
      "R: 1\n",
      "Z: 1\n",
      "n: 1\n",
      "Ct: 1\n",
      "hn: 1\n",
      "a: 1\n",
      "Fa: 1\n",
      "Fd: 1\n",
      "Fs: 1\n",
      "r: 1\n",
      "Øp: 1\n",
      "Øe: 1\n",
      "g: 1\n"
     ]
    },
    {
     "data": {
      "image/png": "[encoded data removed]",
      "text/plain": [
       "<Figure size 432x288 with 1 Axes>"
      ]
     },
     "metadata": {
      "needs_background": "light"
     },
     "output_type": "display_data"
    }
   ],
   "source": [
    "valores = uti.get_values()"
   ]
  },
  {
   "cell_type": "code",
   "execution_count": null,
   "metadata": {},
   "outputs": [],
   "source": []
  },
  {
   "cell_type": "code",
   "execution_count": null,
   "metadata": {},
   "outputs": [],
   "source": []
  }
 ],
 "metadata": {
  "kernelspec": {
   "display_name": "Python 3",
   "language": "python",
   "name": "python3"
  },
  "language_info": {
   "codemirror_mode": {
    "name": "ipython",
    "version": 3
   },
   "file_extension": ".py",
   "mimetype": "text/x-python",
   "name": "python",
   "nbconvert_exporter": "python",
   "pygments_lexer": "ipython3",
   "version": "3.8.5"
  }
 },
 "nbformat": 4,
 "nbformat_minor": 2
}
