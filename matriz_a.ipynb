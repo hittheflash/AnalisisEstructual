{
 "cells": [
  {
   "cell_type": "code",
   "execution_count": 1,
   "metadata": {},
   "outputs": [],
   "source": [
    "from feon.sa import *\n",
    "from feon.tools import pair_wise\n",
    "import numpy as np \n",
    "import pandas as pd\n",
    "import feon as  fn\n",
    "from matplotlib import pyplot as plt\n",
    "import pandas as pd"
   ]
  },
  {
   "cell_type": "code",
   "execution_count": 2,
   "metadata": {},
   "outputs": [],
   "source": [
    "def verify_value(value):\n",
    "    def is_int(n):\n",
    "        try:\n",
    "            int(n)\n",
    "            return True\n",
    "        except ValueError:\n",
    "            return False\n",
    "        else:\n",
    "            return int(n).is_integer()\n",
    "    \n",
    "    while is_int(value)==False:\n",
    "        value = input(\"Enter a correct value: \")\n",
    "    return int(value)"
   ]
  },
  {
   "cell_type": "code",
   "execution_count": 3,
   "metadata": {},
   "outputs": [],
   "source": [
    "def lista_nodos(fill, col):\n",
    "    #print(np.zeros((fill, col)))\n",
    "    #print()\n",
    "    \n",
    "    h = col-1\n",
    "    th = h*(fill-1)\n",
    "    \n",
    "    y = fill-1\n",
    "    ty = (y*col)\n",
    "    lista = []\n",
    "    for i in range(fill):\n",
    "        for j in range(col):\n",
    "            lista.append(Node(j, i))\n",
    "    print(\"Nodos Totales:\", len(lista))\n",
    "    return lista"
   ]
  },
  {
   "cell_type": "code",
   "execution_count": 4,
   "metadata": {},
   "outputs": [],
   "source": [
    "def total_elementos(fill, col):    \n",
    "    h = col-1\n",
    "    th = h*(fill-1)\n",
    "    y = fill-1\n",
    "    ty = (y*col)\n",
    "    total = th+ty\n",
    "    return total"
   ]
  },
  {
   "cell_type": "code",
   "execution_count": 5,
   "metadata": {},
   "outputs": [],
   "source": [
    "class BeamLink2D11(StructElement):\n",
    "    def __init__(self,nodes,E,A,I):\n",
    "        StructElement.__init__(self,nodes)\n",
    "        self.E = E\n",
    "        self.A = A\n",
    "        self.I = I\n",
    "\n",
    "#    define node degree of freedom, left node has three dofs\n",
    "#    while the right node has only two\n",
    "#    def init_unknowns(self):\n",
    "#        self.nodes[0].init_unknowns(\"Ux\",\"Uy\",\"Phz\")\n",
    "#        self.nodes[1].init_unknowns(\"Ux\",\"Uy\")\n",
    "#        self._ndof = 2\n",
    "\n",
    "    #transformative matrix\n",
    "    def calc_T(self):\n",
    "        TBase = _calc_Tbase_for_2d_beam(self.nodes)\n",
    "        self._T = np.zeros((6,6))\n",
    "        self._T[:3,:3] = self._T[3:,3:] = TBase\n",
    "\n",
    "    #stiffness matrix\n",
    "    def calc_ke(self):\n",
    "        self._ke = _calc_ke_for_2d_beamlink(E = self.E,A = self.A,I = self.I,L = self.volume)\n",
    "\n",
    "def _calc_ke_for_2d_beamlink(E = 1.00,A = 1.00,I =1.00,L = 1.0):\n",
    "    a00 = E*A/L\n",
    "    a03 = -a00\n",
    "    a11 = 3.*E*I/L**3\n",
    "    a12 = 3.*E*I/L**2\n",
    "    a14 = -a11\n",
    "    a22 = 3.*E*I/L\n",
    "    T = np.array([[a00,  0.,   0.,  a03,  0.,0.],\n",
    "                  [ 0., a11,  a12,  0., a14, 0.],\n",
    "                  [ 0., a12,  a22,  0.,-a12, 0.],\n",
    "                  [a03,  0.,   0., a00,  0., 0.],\n",
    "                  [ 0., a14, -a12,  0., a11, 0.],\n",
    "                  [ 0.,  0.,    0.,  0., 0., 0.]])\n",
    "    return T\n",
    "    \n",
    "def _calc_Tbase_for_2d_beam(nodes):\n",
    "    \n",
    "    x1,y1 = nodes[0].x,nodes[0].y\n",
    "    x2,y2 = nodes[1].x,nodes[1].y\n",
    "    le = np.sqrt((x2-x1)**2+(y2-y1)**2)\n",
    "\n",
    "    lx = (x2-x1)/le\n",
    "    mx = (y2-y1)/le\n",
    "    T = np.array([[lx,mx,0.],\n",
    "                  [-mx,lx,0.],\n",
    "                  [0.,0.,1.]])\n",
    "                  \n",
    "    return T"
   ]
  },
  {
   "cell_type": "code",
   "execution_count": 6,
   "metadata": {},
   "outputs": [],
   "source": [
    "def lista_elementos(fill, col, E = 1, A = 1, I = 1):\n",
    "\n",
    "    h = col-1\n",
    "    th = h*(fill-1)\n",
    "    \n",
    "    y = fill-1\n",
    "    ty = (y*col)\n",
    "    lista_x = []\n",
    "    cont=0\n",
    "    for i in range(1, fill):\n",
    "        rango = []\n",
    "        for j in range(col):\n",
    "            #print(j, i)\n",
    "            rango.append((j, i))\n",
    "        # Beam2D11((n3,n4),E,A,I)    \n",
    "        nodos_l = [(Node(rango[i]), Node(rango[i+1])) for i in range(len(rango)-1)]\n",
    "        elements = [Beam2D11((nodos),E,A,I) for nodos in nodos_l]\n",
    "        cont+=len(elements)\n",
    "\n",
    "        for i in elements:\n",
    "            lista_x.append(i)\n",
    "        \n",
    "    lista_y = []\n",
    "    cont2=0\n",
    "    for i in range(fill):\n",
    "        rango = []\n",
    "        for j in range(col):\n",
    "            #print(j, i)\n",
    "            rango.append((i, j))\n",
    "        # Beam2D11((n3,n4),E,A,I)    \n",
    "        nodos_l = [(Node(rango[i]), Node(rango[i+1])) for i in range(len(rango)-1)]\n",
    "        elements = [Beam2D11((nodos),E,A,I) for nodos in nodos_l]\n",
    "        cont+=len(elements)\n",
    "\n",
    "        for i in elements:\n",
    "            lista_y.append(i)\n",
    "        \n",
    "    #print()\n",
    "    #print(lista)\n",
    "    print(\"Elementos:\", cont+cont2)\n",
    "    return lista_x+ lista_y"
   ]
  },
  {
   "cell_type": "code",
   "execution_count": 7,
   "metadata": {},
   "outputs": [],
   "source": [
    "def coord_kxx_kxy(filas, columnas):\n",
    "    rango = np.arange(columnas*3, columnas*filas*3)\n",
    "    #print(rango)\n",
    "    ID1 = []\n",
    "    ID2 = []\n",
    "    ID3 = []\n",
    "    \n",
    "    for i in range(0,len(rango),3):\n",
    "        ID1.append(rango[i])\n",
    "        \n",
    "    for i in rango:\n",
    "        if i not in ID1:\n",
    "            ID2.append(i)\n",
    "            \n",
    "    for i in range(1,len(rango),3):\n",
    "        ID3.append(rango[i])\n",
    "        ID3.append(rango[i+1])\n",
    "\n",
    "    kxx_coord = []\n",
    "    for i in ID1:\n",
    "        for j in ID1:\n",
    "            kxx_coord.append([i, j])\n",
    "    \n",
    "    kxy_coord = []\n",
    "    for i in ID1:\n",
    "        for k in ID2:\n",
    "            kxy_coord.append([i, k])\n",
    "            \n",
    "    kyy_coord = []\n",
    "    for i in ID3:\n",
    "        for j in ID3:\n",
    "            kyy_coord.append([i, j])\n",
    "    \n",
    "    return kxx_coord, kxy_coord, kyy_coord"
   ]
  },
  {
   "cell_type": "code",
   "execution_count": 8,
   "metadata": {},
   "outputs": [],
   "source": [
    "def k_extract(M, coord):\n",
    "    L = []\n",
    "    for i in coord:\n",
    "        x, y = i\n",
    "        L.append([x-1, y])\n",
    "    valores = []\n",
    "    for x, y in L:\n",
    "        valor = a[x, y]\n",
    "        valores.append(valor)\n",
    "    return valores"
   ]
  },
  {
   "cell_type": "code",
   "execution_count": 9,
   "metadata": {},
   "outputs": [],
   "source": [
    "def kxy_extract(M, coord):\n",
    "    L = []\n",
    "    for i in coord:\n",
    "        x, y = i\n",
    "        L.append([x-1, y])\n",
    "    valores = []\n",
    "    for x, y in L:\n",
    "        valor = a[x, y]\n",
    "        valores.append(valor)\n",
    "    return valores"
   ]
  },
  {
   "cell_type": "code",
   "execution_count": 10,
   "metadata": {},
   "outputs": [],
   "source": [
    "def kyy_extract(M, coord):\n",
    "    L = []\n",
    "    for i in coord:\n",
    "        x, y = i\n",
    "        L.append([x-1, y])\n",
    "    valores = []\n",
    "    for x, y in L:\n",
    "        valor = a[x, y]\n",
    "        valores += [valor]\n",
    "    return valores"
   ]
  },
  {
   "cell_type": "code",
   "execution_count": 134,
   "metadata": {},
   "outputs": [],
   "source": [
    "# materials\n",
    "E = 1.0                #Modulo de elasticidad kg/cm2\n",
    "A = 1.0                    #Area de secciones cm2\n",
    "I = 1.0                   #Inercia de secciones cm4\n",
    "\n",
    "Nc = 4\n",
    "fx= -1000.0                                 #Carga en axial o direccion x\n",
    "fy= 0.0                                    #Carga en axial o direccion y\n",
    "S = (0,1,2)"
   ]
  },
  {
   "cell_type": "code",
   "execution_count": 177,
   "metadata": {},
   "outputs": [
    {
     "name": "stdout",
     "output_type": "stream",
     "text": [
      "Ingrele el numero de filas de la estructura: 3\n",
      "Ingrele el numero de columnas de la estructura: 2\n",
      "Nodos Totales: 6\n",
      "\n",
      "nodos: [Node:(0.0, 0.0), Node:(1.0, 0.0), Node:(0.0, 1.0), Node:(1.0, 1.0), Node:(0.0, 2.0), Node:(1.0, 2.0)]\n",
      "\n",
      "Estructura (3x2):\n",
      "╔═══╗\n",
      "╢═══╢\n",
      "╚═══╝\n"
     ]
    }
   ],
   "source": [
    "Nniv = input(\"Ingrele el numero de filas de la estructura: \").strip()\n",
    "Nniv = verify_value(Nniv)\n",
    "Ncol = input(\"Ingrele el numero de columnas de la estructura: \").strip()\n",
    "Ncol = verify_value(Ncol)\n",
    "nodos = lista_nodos(Nniv, Ncol)\n",
    "print()\n",
    "print(\"nodos:\",nodos)\n",
    "print()\n",
    "\n",
    "print(\"Estructura ({}x{}):\".format(Nniv, Ncol))\n",
    "piso = \"╢═══\"*(Ncol-1)+ \"╢\"\n",
    "edificio = [piso for i in range(Nniv-1)]\n",
    "floor = [j[1:-1].replace(\"╢\", \"╦\") for j in edificio]\n",
    "print(\"{}{}{}\".format(\"╔\",floor[0],\"╗\"))\n",
    "#print(edificio)\n",
    "#print(floor)\n",
    "for e in range(len(edificio)-1):\n",
    "    print(edificio[e])\n",
    "floor = [j[1:-1].replace(\"╢\", \"╩\") for j in edificio]\n",
    "print(\"{}{}{}\".format(\"╚\",floor[0],\"╝\"))"
   ]
  },
  {
   "cell_type": "code",
   "execution_count": 136,
   "metadata": {},
   "outputs": [
    {
     "name": "stdout",
     "output_type": "stream",
     "text": [
      "Elementos: 10\n"
     ]
    },
    {
     "data": {
      "text/plain": [
       "[Node:(0.0, 0.0),\n",
       " Node:(1.0, 0.0),\n",
       " Node:(2.0, 0.0),\n",
       " Node:(0.0, 1.0),\n",
       " Node:(1.0, 1.0),\n",
       " Node:(2.0, 1.0),\n",
       " Node:(0.0, 2.0),\n",
       " Node:(1.0, 2.0),\n",
       " Node:(2.0, 2.0)]"
      ]
     },
     "execution_count": 136,
     "metadata": {},
     "output_type": "execute_result"
    }
   ],
   "source": [
    "### %%\n",
    "# Generacion de nodos\n",
    "n = []\n",
    "elementos = lista_elementos(Nniv,Ncol)\n",
    "L = [0,1,2,3]\n",
    "H = [0,1,2,3]\n",
    "for i in range(0,Nniv):\n",
    "    for j in range(0,Ncol):\n",
    "        nnod= j+Ncol*i\n",
    "        x =L[j]\n",
    "        y =H[i]\n",
    "        n.append(Node(x,y))\n",
    "\n",
    "n"
   ]
  },
  {
   "cell_type": "code",
   "execution_count": 178,
   "metadata": {},
   "outputs": [],
   "source": [
    "def f(x):\n",
    "    return x**2"
   ]
  },
  {
   "cell_type": "code",
   "execution_count": 180,
   "metadata": {},
   "outputs": [
    {
     "name": "stdout",
     "output_type": "stream",
     "text": [
      "9\n"
     ]
    }
   ],
   "source": [
    "z=3\n",
    "print(f(z))"
   ]
  },
  {
   "cell_type": "code",
   "execution_count": 137,
   "metadata": {},
   "outputs": [
    {
     "data": {
      "text/plain": [
       "[Beam2D11 Element: (Node:(0.0, 1.0), Node:(1.0, 1.0)),\n",
       " Beam2D11 Element: (Node:(1.0, 1.0), Node:(2.0, 1.0)),\n",
       " Beam2D11 Element: (Node:(0.0, 2.0), Node:(1.0, 2.0)),\n",
       " Beam2D11 Element: (Node:(1.0, 2.0), Node:(2.0, 2.0))]"
      ]
     },
     "execution_count": 137,
     "metadata": {},
     "output_type": "execute_result"
    }
   ],
   "source": [
    "#%%\n",
    "###    #Creacion de elementos    \n",
    "v = []\n",
    "for j in range(1,Nniv):\n",
    "    for i in range(Ncol-1):\n",
    "        v.append(Beam2D11((n[j*Ncol+i],n[j*Ncol+i+1]),E,A,I))  \n",
    "v"
   ]
  },
  {
   "cell_type": "code",
   "execution_count": 138,
   "metadata": {},
   "outputs": [
    {
     "data": {
      "text/plain": [
       "[Beam2D11 Element: (Node:(0.0, 0.0), Node:(0.0, 1.0)),\n",
       " Beam2D11 Element: (Node:(1.0, 0.0), Node:(1.0, 1.0)),\n",
       " Beam2D11 Element: (Node:(2.0, 0.0), Node:(2.0, 1.0)),\n",
       " Beam2D11 Element: (Node:(0.0, 1.0), Node:(0.0, 2.0)),\n",
       " Beam2D11 Element: (Node:(1.0, 1.0), Node:(1.0, 2.0)),\n",
       " Beam2D11 Element: (Node:(2.0, 1.0), Node:(2.0, 2.0))]"
      ]
     },
     "execution_count": 138,
     "metadata": {},
     "output_type": "execute_result"
    }
   ],
   "source": [
    "c = []\n",
    "for i in range(1,Nniv):\n",
    "    for j in range(Ncol):\n",
    "        #print(j)\n",
    "        c.append(Beam2D11((n[(i-1)*Ncol+j],n[Ncol*(i-1)+j+Ncol]),E,A,I))\n",
    "c"
   ]
  },
  {
   "cell_type": "code",
   "execution_count": 174,
   "metadata": {
    "scrolled": true
   },
   "outputs": [],
   "source": [
    "s = System()\n",
    "s.add_nodes(n)\n",
    "s.add_elements(v,c)\n",
    "s.add_node_force(Nc,Fx = fx,Fy = fy)\n",
    "a = s.KG\n",
    "s.add_fixed_sup(S)\n",
    "s.solve\n",
    "plt.show()"
   ]
  },
  {
   "cell_type": "code",
   "execution_count": 175,
   "metadata": {},
   "outputs": [
    {
     "data": {
      "text/plain": [
       "2D System: \n",
       "Nodes: 9\n",
       "Elements: 10"
      ]
     },
     "execution_count": 175,
     "metadata": {},
     "output_type": "execute_result"
    }
   ],
   "source": [
    "s"
   ]
  },
  {
   "cell_type": "code",
   "execution_count": 153,
   "metadata": {},
   "outputs": [],
   "source": [
    "kxx_coord, kxy_coord, kyy_coord = coord_kxx_kxy(Nniv, Ncol)\n",
    "#print(kxx_coord)\n",
    "#print(kxy_coord)\n",
    "#print(kyy_coord)"
   ]
  },
  {
   "cell_type": "code",
   "execution_count": 154,
   "metadata": {},
   "outputs": [
    {
     "data": {
      "text/plain": [
       "(27, 27)"
      ]
     },
     "execution_count": 154,
     "metadata": {},
     "output_type": "execute_result"
    }
   ],
   "source": [
    "a.shape"
   ]
  },
  {
   "cell_type": "code",
   "execution_count": null,
   "metadata": {},
   "outputs": [],
   "source": []
  },
  {
   "cell_type": "code",
   "execution_count": 166,
   "metadata": {},
   "outputs": [],
   "source": [
    "kxx = kxx_extract(a, kxx_coord)\n",
    "kxx = np.array(kxx)\n",
    "#kxx"
   ]
  },
  {
   "cell_type": "code",
   "execution_count": 167,
   "metadata": {},
   "outputs": [],
   "source": [
    "kxx = kxx.reshape((6, 6))\n",
    "#kxx"
   ]
  },
  {
   "cell_type": "code",
   "execution_count": 168,
   "metadata": {},
   "outputs": [],
   "source": [
    "kxy = kxy_extract(a, kxy_coord)\n",
    "kxy = np.array(kxy)\n",
    "#kxy"
   ]
  },
  {
   "cell_type": "code",
   "execution_count": 169,
   "metadata": {},
   "outputs": [],
   "source": [
    "kxy = kxy.reshape((6, 12))\n",
    "#kxy"
   ]
  },
  {
   "cell_type": "code",
   "execution_count": 170,
   "metadata": {},
   "outputs": [],
   "source": [
    "kyx = kxy.T\n",
    "#kyx"
   ]
  },
  {
   "cell_type": "code",
   "execution_count": 171,
   "metadata": {},
   "outputs": [],
   "source": [
    "kyy = kyy_extract(a, kyy_coord)\n",
    "kyy = np.array(kyy)\n",
    "#kyy"
   ]
  },
  {
   "cell_type": "code",
   "execution_count": 172,
   "metadata": {},
   "outputs": [],
   "source": [
    "kyy = kyy.reshape((12, 12))\n",
    "#kyy"
   ]
  },
  {
   "cell_type": "code",
   "execution_count": 173,
   "metadata": {},
   "outputs": [
    {
     "data": {
      "text/plain": [
       "array([[ 0.00000000e+00,  0.00000000e+00,  8.00000000e+00,\n",
       "         2.00000000e+00,  0.00000000e+00,  2.00000000e+00],\n",
       "       [ 2.72932109e-01, -1.10648237e+01, -5.01209964e+00,\n",
       "         8.55948566e+00, -1.06008376e+01, -8.79715302e+00],\n",
       "       [ 8.61878453e-01,  4.37569061e+00,  0.00000000e+00,\n",
       "        -4.37569061e+00,  1.62872928e+01, -1.77635684e-15],\n",
       "       [ 5.88946344e-01, -2.55948566e+00,  5.01209964e+00,\n",
       "         1.10648237e+01, -1.11186961e+00,  1.47971530e+01],\n",
       "       [-5.97112129e+00,  3.02841077e+00,  3.54021352e+00,\n",
       "         5.76874226e+00, -4.27934174e+00, -2.91814947e-01],\n",
       "       [ 6.62983425e-02, -1.27403315e+01,  0.00000000e+00,\n",
       "         6.74033149e+00,  4.02209945e+00, -1.77635684e-14]])"
      ]
     },
     "execution_count": 173,
     "metadata": {},
     "output_type": "execute_result"
    }
   ],
   "source": [
    "kxx - np.dot(kxy, np.dot(np.linalg.inv(kyy), kyx))"
   ]
  },
  {
   "cell_type": "code",
   "execution_count": 165,
   "metadata": {},
   "outputs": [
    {
     "name": "stdout",
     "output_type": "stream",
     "text": [
      "{'Ux': 0.0, 'Uy': 0.0, 'Phz': 0.0}\n",
      "{'Ux': 0.0, 'Uy': 0.0, 'Phz': 0.0}\n",
      "{'Ux': 0.0, 'Uy': 0.0, 'Phz': 0.0}\n",
      "{'Ux': None, 'Uy': None, 'Phz': None}\n",
      "{'Ux': None, 'Uy': None, 'Phz': None}\n",
      "{'Ux': None, 'Uy': None, 'Phz': None}\n",
      "{'Ux': None, 'Uy': None, 'Phz': None}\n",
      "{'Ux': None, 'Uy': None, 'Phz': None}\n",
      "{'Ux': None, 'Uy': None, 'Phz': None}\n"
     ]
    }
   ],
   "source": [
    "for i in n:\n",
    "    print(i.disp)"
   ]
  },
  {
   "cell_type": "code",
   "execution_count": null,
   "metadata": {},
   "outputs": [],
   "source": []
  },
  {
   "cell_type": "code",
   "execution_count": null,
   "metadata": {},
   "outputs": [],
   "source": []
  }
 ],
 "metadata": {
  "kernelspec": {
   "display_name": "Python 3",
   "language": "python",
   "name": "python3"
  },
  "language_info": {
   "codemirror_mode": {
    "name": "ipython",
    "version": 3
   },
   "file_extension": ".py",
   "mimetype": "text/x-python",
   "name": "python",
   "nbconvert_exporter": "python",
   "pygments_lexer": "ipython3",
   "version": "3.8.5"
  }
 },
 "nbformat": 4,
 "nbformat_minor": 2
}
